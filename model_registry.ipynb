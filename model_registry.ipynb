{
 "cells": [
  {
   "cell_type": "code",
   "execution_count": 1,
   "id": "initial_id",
   "metadata": {
    "ExecuteTime": {
     "end_time": "2025-03-16T15:49:37.372682Z",
     "start_time": "2025-03-16T15:49:36.072369Z"
    },
    "collapsed": true
   },
   "outputs": [],
   "source": [
    "from mlflow.tracking import MlflowClient\n",
    "import mlflow\n",
    "\n",
    "\n",
    "# MLFLOW_TRACKING_URI = \"sqlite:///mlflow.db\"\n",
    "mlflow.set_tracking_uri(\"http://127.0.0.1:8080\")"
   ]
  },
  {
   "cell_type": "code",
   "execution_count": 2,
   "id": "358dfee1",
   "metadata": {},
   "outputs": [],
   "source": [
    "MLFLOW_TRACKING_URI = \"http://127.0.0.1:8080\""
   ]
  },
  {
   "cell_type": "code",
   "execution_count": 3,
   "id": "f30d9f40bd30bb2b",
   "metadata": {
    "ExecuteTime": {
     "end_time": "2025-03-16T15:49:53.248289Z",
     "start_time": "2025-03-16T15:49:52.886555Z"
    },
    "collapsed": false
   },
   "outputs": [
    {
     "data": {
      "text/plain": [
       "[<Experiment: artifact_location='file:///c:/Users/artkr/OneDrive/เอกสาร/GitHub/cpe393-mlflow/mlruns/1', creation_time=1746534332069, experiment_id='1', last_update_time=1746534332069, lifecycle_stage='active', name='mlops_nyc_taxi', tags={}>,\n",
       " <Experiment: artifact_location='file:///c:/Users/artkr/OneDrive/เอกสาร/GitHub/cpe393-mlflow/mlruns/0', creation_time=1746534332061, experiment_id='0', last_update_time=1746534332061, lifecycle_stage='active', name='Default', tags={}>]"
      ]
     },
     "execution_count": 3,
     "metadata": {},
     "output_type": "execute_result"
    }
   ],
   "source": [
    "# client = MlflowClient(tracking_uri=MLFLOW_TRACKING_URI)\n",
    "client = MlflowClient()\n",
    "\n",
    "client.search_experiments()"
   ]
  },
  {
   "cell_type": "code",
   "execution_count": 4,
   "id": "1e41bfef1da117d2",
   "metadata": {
    "ExecuteTime": {
     "end_time": "2025-03-16T15:50:11.714688Z",
     "start_time": "2025-03-16T15:50:11.698987Z"
    },
    "collapsed": false
   },
   "outputs": [
    {
     "data": {
      "text/plain": [
       "'2'"
      ]
     },
     "execution_count": 4,
     "metadata": {},
     "output_type": "execute_result"
    }
   ],
   "source": [
    "client.create_experiment(name=\"my-new-experiment\")"
   ]
  },
  {
   "cell_type": "code",
   "execution_count": 5,
   "id": "87a79a3a",
   "metadata": {},
   "outputs": [
    {
     "name": "stdout",
     "output_type": "stream",
     "text": [
      "run id: 2a2829c2140c4e5986864f150d651e5d, rmse: 29.2233\n",
      "run id: 55fe47924956473ab5379c732c40dd7c, rmse: 33.9278\n",
      "run id: 3f3fb49315de45838ee7f4d732224c38, rmse: 58.6168\n",
      "run id: d962b6ca3381496d8f6d9ed12198bd26, rmse: 73.0615\n"
     ]
    }
   ],
   "source": [
    "from mlflow.entities import ViewType\n",
    "\n",
    "# Replace '1' with your actual experiment ID if different\n",
    "runs = client.search_runs(\n",
    "    experiment_ids='1',\n",
    "    filter_string=\"metrics.rmse < 100\",\n",
    "    run_view_type=ViewType.ACTIVE_ONLY,\n",
    "    max_results=5,\n",
    "    order_by=[\"metrics.rmse ASC\"]\n",
    ")\n",
    "\n",
    "for run in runs:\n",
    "    print(f\"run id: {run.info.run_id}, rmse: {run.data.metrics['rmse']:.4f}\")\n"
   ]
  },
  {
   "cell_type": "code",
   "execution_count": 6,
   "id": "bb4c1cec",
   "metadata": {},
   "outputs": [],
   "source": [
    "import pickle\n",
    "\n",
    "with open(\"preprocessor.b\", \"rb\") as f:\n",
    "    dv = pickle.load(f)\n"
   ]
  },
  {
   "cell_type": "code",
   "execution_count": 8,
   "id": "bcc99e82",
   "metadata": {},
   "outputs": [
    {
     "name": "stderr",
     "output_type": "stream",
     "text": [
      "Registered model 'duration-prediction' already exists. Creating a new version of this model...\n",
      "2025/05/06 19:40:33 INFO mlflow.store.model_registry.abstract_store: Waiting up to 300 seconds for model version to finish creation. Model name: duration-prediction, version 2\n",
      "Created version '2' of model 'duration-prediction'.\n"
     ]
    }
   ],
   "source": [
    "run_id = \"55fe47924956473ab5379c732c40dd7c\"\n",
    "model_uri = f\"runs:/{run_id}/models_mlflow\"\n",
    "\n",
    "result = mlflow.register_model(\n",
    "    model_uri=model_uri,\n",
    "    name=\"duration-prediction\"\n",
    ")\n"
   ]
  },
  {
   "cell_type": "code",
   "execution_count": 11,
   "id": "0845d50f",
   "metadata": {},
   "outputs": [
    {
     "name": "stdout",
     "output_type": "stream",
     "text": [
      "Model name: duration-prediction\n",
      "  Version: 2, Stage: None, Run ID: 55fe47924956473ab5379c732c40dd7c\n"
     ]
    }
   ],
   "source": [
    "from mlflow.tracking import MlflowClient\n",
    "\n",
    "client = MlflowClient()\n",
    "\n",
    "models = client.search_registered_models()\n",
    "for model in models:\n",
    "    print(f\"Model name: {model.name}\")\n",
    "    for v in model.latest_versions:\n",
    "        print(f\"  Version: {v.version}, Stage: {v.current_stage}, Run ID: {v.run_id}\")\n"
   ]
  },
  {
   "cell_type": "code",
   "execution_count": 12,
   "id": "89d1eca9",
   "metadata": {},
   "outputs": [
    {
     "name": "stdout",
     "output_type": "stream",
     "text": [
      "Downloading green_tripdata_2021-03.parquet...\n",
      "Done.\n"
     ]
    }
   ],
   "source": [
    "import urllib.request\n",
    "\n",
    "urls = [\n",
    "    \"https://d37ci6vzurychx.cloudfront.net/trip-data/green_tripdata_2021-03.parquet\",\n",
    "]\n",
    "\n",
    "for url in urls:\n",
    "    filename = url.split(\"/\")[-1]\n",
    "    print(f\"Downloading {filename}...\")\n",
    "    urllib.request.urlretrieve(url, filename)\n",
    "    print(\"Done.\")\n"
   ]
  },
  {
   "cell_type": "code",
   "execution_count": 13,
   "id": "ee24c88a",
   "metadata": {},
   "outputs": [
    {
     "name": "stderr",
     "output_type": "stream",
     "text": [
      "C:\\Users\\artkr\\AppData\\Local\\Temp\\ipykernel_18292\\547606745.py:2: FutureWarning: ``mlflow.tracking.client.MlflowClient.transition_model_version_stage`` is deprecated since 2.9.0. Model registry stages will be removed in a future major release. To learn more about the deprecation of model registry stages, see our migration guide here: https://mlflow.org/docs/latest/model-registry.html#migrating-from-stages\n",
      "  client.transition_model_version_stage(\n",
      "C:\\Users\\artkr\\AppData\\Local\\Temp\\ipykernel_18292\\547606745.py:9: FutureWarning: ``mlflow.tracking.client.MlflowClient.transition_model_version_stage`` is deprecated since 2.9.0. Model registry stages will be removed in a future major release. To learn more about the deprecation of model registry stages, see our migration guide here: https://mlflow.org/docs/latest/model-registry.html#migrating-from-stages\n",
      "  client.transition_model_version_stage(\n"
     ]
    },
    {
     "data": {
      "text/plain": [
       "<ModelVersion: aliases=[], creation_timestamp=1746535233591, current_stage='Production', description='', last_updated_timestamp=1746535246354, name='duration-prediction', run_id='55fe47924956473ab5379c732c40dd7c', run_link='', source='file:///c:/Users/artkr/OneDrive/เอกสาร/GitHub/cpe393-mlflow/mlruns/1/55fe47924956473ab5379c732c40dd7c/artifacts/models_mlflow', status='READY', status_message=None, tags={}, user_id='', version='2'>"
      ]
     },
     "execution_count": 13,
     "metadata": {},
     "output_type": "execute_result"
    }
   ],
   "source": [
    "# Promote version 1 to Staging\n",
    "client.transition_model_version_stage(\n",
    "    name=\"duration-prediction\",\n",
    "    version=\"1\",\n",
    "    stage=\"Staging\"\n",
    ")\n",
    "\n",
    "# Promote version 2 to Production\n",
    "client.transition_model_version_stage(\n",
    "    name=\"duration-prediction\",\n",
    "    version=\"2\",\n",
    "    stage=\"Production\"\n",
    ")\n"
   ]
  },
  {
   "cell_type": "code",
   "execution_count": null,
   "id": "31d8852f",
   "metadata": {},
   "outputs": [],
   "source": [
    "# import pandas as pd\n",
    "\n",
    "# df_test = pd.read_parquet(\"green_tripdata_2021-03.parquet\")\n"
   ]
  },
  {
   "cell_type": "code",
   "execution_count": null,
   "id": "2879a8c1",
   "metadata": {},
   "outputs": [],
   "source": [
    "# # Add this before dropping datetime columns\n",
    "# df_test[\"duration\"] = df_test.lpep_dropoff_datetime - df_test.lpep_pickup_datetime\n",
    "# df_test[\"duration\"] = df_test[\"duration\"].apply(lambda td: td.total_seconds() / 60)\n",
    "# df_test = df_test[(df_test.duration >= 1) & (df_test.duration <= 60)].copy()\n"
   ]
  },
  {
   "cell_type": "code",
   "execution_count": null,
   "id": "ee9b0ffd",
   "metadata": {},
   "outputs": [],
   "source": [
    "# df_test[\"pickup_hour\"] = df_test[\"lpep_pickup_datetime\"].dt.hour\n",
    "# df_test[\"pickup_dayofweek\"] = df_test[\"lpep_pickup_datetime\"].dt.dayofweek\n",
    "# df_test[\"dropoff_hour\"] = df_test[\"lpep_dropoff_datetime\"].dt.hour\n",
    "# df_test[\"dropoff_dayofweek\"] = df_test[\"lpep_dropoff_datetime\"].dt.dayofweek\n",
    "\n",
    "# # Drop raw datetime columns if they weren’t used in training\n",
    "# df_test = df_test.drop(columns=[\"lpep_pickup_datetime\", \"lpep_dropoff_datetime\"])\n"
   ]
  },
  {
   "cell_type": "code",
   "execution_count": null,
   "id": "37bbd19b",
   "metadata": {},
   "outputs": [],
   "source": [
    "# X_test = dv.transform(df_test.to_dict(orient=\"records\"))\n"
   ]
  },
  {
   "cell_type": "code",
   "execution_count": null,
   "id": "9ba1012a",
   "metadata": {},
   "outputs": [
    {
     "name": "stdout",
     "output_type": "stream",
     "text": [
      "Model duration-prediction, version 1: stage=Staging, run_id=e76d234c62bd4648b63444f033e760a8\n",
      "Model duration-prediction, version 2: stage=Production, run_id=e76d234c62bd4648b63444f033e760a8\n"
     ]
    },
    {
     "name": "stderr",
     "output_type": "stream",
     "text": [
      "C:\\Users\\artkr\\AppData\\Local\\Temp\\ipykernel_6092\\1135971749.py:2: FutureWarning: ``mlflow.tracking.client.MlflowClient.get_latest_versions`` is deprecated since 2.9.0. Model registry stages will be removed in a future major release. To learn more about the deprecation of model registry stages, see our migration guide here: https://mlflow.org/docs/latest/model-registry.html#migrating-from-stages\n",
      "  latest_versions = client.get_latest_versions(name=model_name)\n"
     ]
    }
   ],
   "source": [
    "# model_name = \"duration-prediction\"\n",
    "# latest_versions = client.get_latest_versions(name=model_name)\n",
    "# for mv in latest_versions:\n",
    "#     print(f\"Model {model_name}, version {mv.version}: stage={mv.current_stage}, run_id={mv.run_id}\")\n"
   ]
  },
  {
   "cell_type": "code",
   "execution_count": 14,
   "id": "60946ccb",
   "metadata": {},
   "outputs": [],
   "source": [
    "import mlflow.pyfunc\n",
    "\n",
    "staging_model = mlflow.pyfunc.load_model(\"models:/duration-prediction/Staging\")\n",
    "production_model = mlflow.pyfunc.load_model(\"models:/duration-prediction/Production\")\n"
   ]
  },
  {
   "cell_type": "code",
   "execution_count": 15,
   "id": "10e1cee2",
   "metadata": {},
   "outputs": [],
   "source": [
    "import pandas as pd\n",
    "\n",
    "df_test = pd.read_parquet(\"green_tripdata_2021-03.parquet\")"
   ]
  },
  {
   "cell_type": "code",
   "execution_count": 16,
   "id": "3833cc5b",
   "metadata": {},
   "outputs": [],
   "source": [
    "df_test[\"duration\"] = df_test.lpep_dropoff_datetime - df_test.lpep_pickup_datetime\n",
    "df_test[\"duration\"] = df_test[\"duration\"].apply(lambda td: td.total_seconds() / 60)"
   ]
  },
  {
   "cell_type": "code",
   "execution_count": 17,
   "id": "97d52916",
   "metadata": {},
   "outputs": [],
   "source": [
    "df_test = df_test[(df_test.duration >= 1) & (df_test.duration <= 60)].copy()"
   ]
  },
  {
   "cell_type": "code",
   "execution_count": 18,
   "id": "4ca2a8ff",
   "metadata": {},
   "outputs": [],
   "source": [
    "df_test[\"PULocationID\"] = df_test[\"PULocationID\"].astype(str)\n",
    "df_test[\"DOLocationID\"] = df_test[\"DOLocationID\"].astype(str)\n",
    "df_test[\"PU_DO\"] = df_test[\"PULocationID\"] + \"_\" + df_test[\"DOLocationID\"]"
   ]
  },
  {
   "cell_type": "code",
   "execution_count": 19,
   "id": "cb28226a",
   "metadata": {},
   "outputs": [],
   "source": [
    "categorical = [\"PU_DO\"]\n",
    "numerical = [\"trip_distance\"]\n",
    "test_dicts = df_test[categorical + numerical].to_dict(orient=\"records\")"
   ]
  },
  {
   "cell_type": "code",
   "execution_count": 20,
   "id": "2ba94f96",
   "metadata": {},
   "outputs": [],
   "source": [
    "X_test = dv.transform(test_dicts)"
   ]
  },
  {
   "cell_type": "code",
   "execution_count": 21,
   "id": "a1bdeb27",
   "metadata": {},
   "outputs": [],
   "source": [
    "y_test = df_test[\"duration\"].values"
   ]
  },
  {
   "cell_type": "code",
   "execution_count": 22,
   "id": "26e37345",
   "metadata": {},
   "outputs": [
    {
     "name": "stdout",
     "output_type": "stream",
     "text": [
      "MAE Staging: 5.365534611422979\n",
      "MAE Production: 5.365534611422979\n"
     ]
    }
   ],
   "source": [
    "y_pred_staging = staging_model.predict(X_test)\n",
    "y_pred_production = production_model.predict(X_test)\n",
    "\n",
    "# Example metric: MAE\n",
    "from sklearn.metrics import mean_absolute_error\n",
    "\n",
    "mae_staging = mean_absolute_error(df_test[\"duration\"], y_pred_staging)\n",
    "mae_production = mean_absolute_error(df_test[\"duration\"], y_pred_production)\n",
    "\n",
    "print(f\"MAE Staging: {mae_staging}\")\n",
    "print(f\"MAE Production: {mae_production}\")\n"
   ]
  },
  {
   "cell_type": "code",
   "execution_count": 23,
   "id": "857aca3d",
   "metadata": {},
   "outputs": [
    {
     "name": "stderr",
     "output_type": "stream",
     "text": [
      "C:\\Users\\artkr\\AppData\\Local\\Temp\\ipykernel_18292\\3252090468.py:6: FutureWarning: ``mlflow.tracking.client.MlflowClient.get_latest_versions`` is deprecated since 2.9.0. Model registry stages will be removed in a future major release. To learn more about the deprecation of model registry stages, see our migration guide here: https://mlflow.org/docs/latest/model-registry.html#migrating-from-stages\n",
      "  staging_version = client.get_latest_versions(\"duration-prediction\", stages=[\"Staging\"])[0].version\n",
      "C:\\Users\\artkr\\AppData\\Local\\Temp\\ipykernel_18292\\3252090468.py:9: FutureWarning: ``mlflow.tracking.client.MlflowClient.transition_model_version_stage`` is deprecated since 2.9.0. Model registry stages will be removed in a future major release. To learn more about the deprecation of model registry stages, see our migration guide here: https://mlflow.org/docs/latest/model-registry.html#migrating-from-stages\n",
      "  client.transition_model_version_stage(\n"
     ]
    },
    {
     "data": {
      "text/plain": [
       "<ModelVersion: aliases=[], creation_timestamp=1746535229118, current_stage='Production', description='', last_updated_timestamp=1746535270651, name='duration-prediction', run_id='55fe47924956473ab5379c732c40dd7c', run_link='', source='file:///c:/Users/artkr/OneDrive/เอกสาร/GitHub/cpe393-mlflow/mlruns/1/55fe47924956473ab5379c732c40dd7c/artifacts/models_mlflow', status='READY', status_message=None, tags={}, user_id='', version='1'>"
      ]
     },
     "execution_count": 23,
     "metadata": {},
     "output_type": "execute_result"
    }
   ],
   "source": [
    "from mlflow.tracking import MlflowClient\n",
    "\n",
    "client = MlflowClient()\n",
    "\n",
    "# Get version of current Staging model\n",
    "staging_version = client.get_latest_versions(\"duration-prediction\", stages=[\"Staging\"])[0].version\n",
    "\n",
    "# Promote to Production\n",
    "client.transition_model_version_stage(\n",
    "    name=\"duration-prediction\",\n",
    "    version=staging_version,\n",
    "    stage=\"Production\",\n",
    "    archive_existing_versions=True\n",
    ")\n"
   ]
  },
  {
   "cell_type": "markdown",
   "id": "a17e11f2",
   "metadata": {},
   "source": [
    "....."
   ]
  },
  {
   "cell_type": "code",
   "execution_count": 24,
   "id": "e7965358afe3200b",
   "metadata": {
    "ExecuteTime": {
     "end_time": "2025-03-16T15:50:54.398721Z",
     "start_time": "2025-03-16T15:50:54.382003Z"
    },
    "collapsed": false
   },
   "outputs": [],
   "source": [
    "from mlflow.entities import ViewType\n",
    "\n",
    "runs = client.search_runs(\n",
    "    experiment_ids='1',\n",
    "    filter_string=\"metrics.rmse < 100\",\n",
    "    run_view_type=ViewType.ACTIVE_ONLY,\n",
    "    max_results=5,\n",
    "    order_by=[\"metrics.rmse ASC\"]\n",
    ")"
   ]
  },
  {
   "cell_type": "code",
   "execution_count": 38,
   "id": "f0eec8a5",
   "metadata": {},
   "outputs": [
    {
     "data": {
      "text/plain": [
       "[<Run: data=<RunData: metrics={'rmse': 29.223338109056154}, params={'learning_rate': '0.47390461808219303',\n",
       "  'max_depth': '40',\n",
       "  'min_child_weight': '1.7591586781822681',\n",
       "  'objective': 'reg:linear',\n",
       "  'reg_alpha': '0.05263667882154712',\n",
       "  'reg_lambda': '0.03191746437453483',\n",
       "  'seed': '42'}, tags={'mlflow.runName': 'persistent-sow-972',\n",
       "  'mlflow.source.name': 'C:\\\\Users\\\\artkr\\\\AppData\\\\Local\\\\Packages\\\\PythonSoftwareFoundation.Python.3.11_qbz5n2kfra8p0\\\\LocalCache\\\\local-packages\\\\Python311\\\\site-packages\\\\ipykernel_launcher.py',\n",
       "  'mlflow.source.type': 'LOCAL',\n",
       "  'mlflow.user': 'artkr',\n",
       "  'model': 'xgboost'}>, info=<RunInfo: artifact_uri='file:///c:/Users/artkr/OneDrive/เอกสาร/GitHub/cpe393-mlflow/mlruns/1/2a2829c2140c4e5986864f150d651e5d/artifacts', end_time=1746534858782, experiment_id='1', lifecycle_stage='active', run_id='2a2829c2140c4e5986864f150d651e5d', run_name='persistent-sow-972', run_uuid='2a2829c2140c4e5986864f150d651e5d', start_time=1746534833794, status='FINISHED', user_id='artkr'>, inputs=<RunInputs: dataset_inputs=[]>>,\n",
       " <Run: data=<RunData: metrics={'rmse': 33.927832593170606}, params={'learning_rate': '0.4434065752589766',\n",
       "  'max_depth': '81',\n",
       "  'min_child_weight': '10.423237853746643',\n",
       "  'objective': 'reg:linear',\n",
       "  'reg_alpha': '0.2630756846813668',\n",
       "  'reg_lambda': '0.1220536223877784',\n",
       "  'seed': '42'}, tags={'mlflow.log-model.history': '[{\"run_id\": \"55fe47924956473ab5379c732c40dd7c\", '\n",
       "                              '\"artifact_path\": \"models_mlflow\", '\n",
       "                              '\"utc_time_created\": \"2025-05-06 '\n",
       "                              '12:37:20.068020\", \"model_uuid\": '\n",
       "                              '\"a23ea3481eab4c37a8935aec62d1dfd2\", \"flavors\": '\n",
       "                              '{\"python_function\": {\"loader_module\": '\n",
       "                              '\"mlflow.xgboost\", \"python_version\": \"3.11.9\", '\n",
       "                              '\"data\": \"model.xgb\", \"env\": {\"conda\": '\n",
       "                              '\"conda.yaml\", \"virtualenv\": \"python_env.yaml\"}}, '\n",
       "                              '\"xgboost\": {\"xgb_version\": \"3.0.0\", \"data\": '\n",
       "                              '\"model.xgb\", \"model_class\": '\n",
       "                              '\"xgboost.core.Booster\", \"model_format\": \"xgb\", '\n",
       "                              '\"code\": null}}}]',\n",
       "  'mlflow.runName': 'dashing-skunk-132',\n",
       "  'mlflow.source.name': 'C:\\\\Users\\\\artkr\\\\AppData\\\\Local\\\\Packages\\\\PythonSoftwareFoundation.Python.3.11_qbz5n2kfra8p0\\\\LocalCache\\\\local-packages\\\\Python311\\\\site-packages\\\\ipykernel_launcher.py',\n",
       "  'mlflow.source.type': 'LOCAL',\n",
       "  'mlflow.user': 'artkr'}>, info=<RunInfo: artifact_uri='file:///c:/Users/artkr/OneDrive/เอกสาร/GitHub/cpe393-mlflow/mlruns/1/55fe47924956473ab5379c732c40dd7c/artifacts', end_time=1746535057361, experiment_id='1', lifecycle_stage='active', run_id='55fe47924956473ab5379c732c40dd7c', run_name='dashing-skunk-132', run_uuid='55fe47924956473ab5379c732c40dd7c', start_time=1746534859173, status='FINISHED', user_id='artkr'>, inputs=<RunInputs: dataset_inputs=[]>>,\n",
       " <Run: data=<RunData: metrics={'rmse': 58.616848167541114}, params={'learning_rate': '0.1328206618085729',\n",
       "  'max_depth': '11',\n",
       "  'min_child_weight': '19.135595559299254',\n",
       "  'objective': 'reg:linear',\n",
       "  'reg_alpha': '0.28765383512745696',\n",
       "  'reg_lambda': '0.03778708590783709',\n",
       "  'seed': '42'}, tags={'mlflow.runName': 'righteous-dove-57',\n",
       "  'mlflow.source.name': 'C:\\\\Users\\\\artkr\\\\AppData\\\\Local\\\\Packages\\\\PythonSoftwareFoundation.Python.3.11_qbz5n2kfra8p0\\\\LocalCache\\\\local-packages\\\\Python311\\\\site-packages\\\\ipykernel_launcher.py',\n",
       "  'mlflow.source.type': 'LOCAL',\n",
       "  'mlflow.user': 'artkr',\n",
       "  'model': 'xgboost'}>, info=<RunInfo: artifact_uri='file:///c:/Users/artkr/OneDrive/เอกสาร/GitHub/cpe393-mlflow/mlruns/1/3f3fb49315de45838ee7f4d732224c38/artifacts', end_time=1746534385107, experiment_id='1', lifecycle_stage='active', run_id='3f3fb49315de45838ee7f4d732224c38', run_name='righteous-dove-57', run_uuid='3f3fb49315de45838ee7f4d732224c38', start_time=1746534380458, status='FINISHED', user_id='artkr'>, inputs=<RunInputs: dataset_inputs=[]>>,\n",
       " <Run: data=<RunData: metrics={'rmse': 73.06153528578875}, params={'learning_rate': '0.06492272428017097',\n",
       "  'max_depth': '94',\n",
       "  'min_child_weight': '3.8139170562966704',\n",
       "  'objective': 'reg:linear',\n",
       "  'reg_alpha': '0.01689398302177425',\n",
       "  'reg_lambda': '0.0563581231455158',\n",
       "  'seed': '42'}, tags={'mlflow.runName': 'rare-mouse-185',\n",
       "  'mlflow.source.name': 'C:\\\\Users\\\\artkr\\\\AppData\\\\Local\\\\Packages\\\\PythonSoftwareFoundation.Python.3.11_qbz5n2kfra8p0\\\\LocalCache\\\\local-packages\\\\Python311\\\\site-packages\\\\ipykernel_launcher.py',\n",
       "  'mlflow.source.type': 'LOCAL',\n",
       "  'mlflow.user': 'artkr',\n",
       "  'model': 'xgboost'}>, info=<RunInfo: artifact_uri='file:///c:/Users/artkr/OneDrive/เอกสาร/GitHub/cpe393-mlflow/mlruns/1/d962b6ca3381496d8f6d9ed12198bd26/artifacts', end_time=1746534833730, experiment_id='1', lifecycle_stage='active', run_id='d962b6ca3381496d8f6d9ed12198bd26', run_name='rare-mouse-185', run_uuid='d962b6ca3381496d8f6d9ed12198bd26', start_time=1746534385144, status='FINISHED', user_id='artkr'>, inputs=<RunInputs: dataset_inputs=[]>>]"
      ]
     },
     "execution_count": 38,
     "metadata": {},
     "output_type": "execute_result"
    }
   ],
   "source": [
    "runs"
   ]
  },
  {
   "cell_type": "code",
   "execution_count": 25,
   "id": "1364b30512c67b1b",
   "metadata": {
    "ExecuteTime": {
     "end_time": "2025-03-16T15:51:27.949595Z",
     "start_time": "2025-03-16T15:51:27.945794Z"
    },
    "collapsed": false
   },
   "outputs": [],
   "source": [
    "import mlflow\n",
    "\n",
    "mlflow.set_tracking_uri(MLFLOW_TRACKING_URI)"
   ]
  },
  {
   "cell_type": "code",
   "execution_count": 55,
   "id": "cbc4e23a",
   "metadata": {},
   "outputs": [
    {
     "name": "stderr",
     "output_type": "stream",
     "text": [
      "Registered model 'nyc-taxi-regressor' already exists. Creating a new version of this model...\n",
      "2025/05/06 20:08:11 INFO mlflow.store.model_registry.abstract_store: Waiting up to 300 seconds for model version to finish creation. Model name: nyc-taxi-regressor, version 3\n",
      "Created version '3' of model 'nyc-taxi-regressor'.\n"
     ]
    },
    {
     "data": {
      "text/plain": [
       "<ModelVersion: aliases=[], creation_timestamp=1746536891765, current_stage='None', description='', last_updated_timestamp=1746536891765, name='nyc-taxi-regressor', run_id='5f3efbc386f340c2ad647a6b9ee5fa5f', run_link='', source='file:///c:/Users/artkr/OneDrive/เอกสาร/GitHub/cpe393-mlflow/mlruns/1/5f3efbc386f340c2ad647a6b9ee5fa5f/artifacts/model', status='READY', status_message=None, tags={}, user_id='', version='3'>"
      ]
     },
     "execution_count": 55,
     "metadata": {},
     "output_type": "execute_result"
    }
   ],
   "source": [
    "run_id = \"5f3efbc386f340c2ad647a6b9ee5fa5f\"  #insert your run id\n",
    "model_uri = f\"runs:/{run_id}/model\"\n",
    "mlflow.register_model(model_uri=model_uri, name=\"nyc-taxi-regressor\")"
   ]
  },
  {
   "cell_type": "code",
   "execution_count": 27,
   "id": "181d90df1e449da3",
   "metadata": {
    "collapsed": false
   },
   "outputs": [
    {
     "name": "stderr",
     "output_type": "stream",
     "text": [
      "Registered model 'nyc-taxi-regressor' already exists. Creating a new version of this model...\n",
      "2025/05/06 19:44:24 INFO mlflow.store.model_registry.abstract_store: Waiting up to 300 seconds for model version to finish creation. Model name: nyc-taxi-regressor, version 1\n",
      "Created version '1' of model 'nyc-taxi-regressor'.\n"
     ]
    },
    {
     "data": {
      "text/plain": [
       "<ModelVersion: aliases=[], creation_timestamp=1746535464934, current_stage='None', description='', last_updated_timestamp=1746535464934, name='nyc-taxi-regressor', run_id='55fe47924956473ab5379c732c40dd7c', run_link='', source='file:///c:/Users/artkr/OneDrive/เอกสาร/GitHub/cpe393-mlflow/mlruns/1/55fe47924956473ab5379c732c40dd7c/artifacts/model', status='READY', status_message=None, tags={}, user_id='', version='1'>"
      ]
     },
     "execution_count": 27,
     "metadata": {},
     "output_type": "execute_result"
    }
   ],
   "source": [
    "run_id = \"55fe47924956473ab5379c732c40dd7c\"  #insert your run id\n",
    "model_uri = f\"runs:/{run_id}/model\"\n",
    "mlflow.register_model(model_uri=model_uri, name=\"nyc-taxi-regressor\")"
   ]
  },
  {
   "cell_type": "code",
   "execution_count": 60,
   "id": "a23255e7",
   "metadata": {},
   "outputs": [
    {
     "name": "stderr",
     "output_type": "stream",
     "text": [
      "C:\\Users\\artkr\\AppData\\Local\\Temp\\ipykernel_18292\\2869865357.py:2: FutureWarning: ``mlflow.tracking.client.MlflowClient.transition_model_version_stage`` is deprecated since 2.9.0. Model registry stages will be removed in a future major release. To learn more about the deprecation of model registry stages, see our migration guide here: https://mlflow.org/docs/latest/model-registry.html#migrating-from-stages\n",
      "  client.transition_model_version_stage(\n",
      "C:\\Users\\artkr\\AppData\\Local\\Temp\\ipykernel_18292\\2869865357.py:9: FutureWarning: ``mlflow.tracking.client.MlflowClient.transition_model_version_stage`` is deprecated since 2.9.0. Model registry stages will be removed in a future major release. To learn more about the deprecation of model registry stages, see our migration guide here: https://mlflow.org/docs/latest/model-registry.html#migrating-from-stages\n",
      "  client.transition_model_version_stage(\n",
      "C:\\Users\\artkr\\AppData\\Local\\Temp\\ipykernel_18292\\2869865357.py:16: FutureWarning: ``mlflow.tracking.client.MlflowClient.transition_model_version_stage`` is deprecated since 2.9.0. Model registry stages will be removed in a future major release. To learn more about the deprecation of model registry stages, see our migration guide here: https://mlflow.org/docs/latest/model-registry.html#migrating-from-stages\n",
      "  client.transition_model_version_stage(\n"
     ]
    },
    {
     "data": {
      "text/plain": [
       "<ModelVersion: aliases=[], creation_timestamp=1746535840404, current_stage='Archived', description='', last_updated_timestamp=1746536986886, name='nyc-taxi-regressor', run_id='2a2829c2140c4e5986864f150d651e5d', run_link='', source='file:///c:/Users/artkr/OneDrive/เอกสาร/GitHub/cpe393-mlflow/mlruns/1/2a2829c2140c4e5986864f150d651e5d/artifacts/models_mlflow', status='READY', status_message=None, tags={}, user_id='', version='2'>"
      ]
     },
     "execution_count": 60,
     "metadata": {},
     "output_type": "execute_result"
    }
   ],
   "source": [
    "# Promote version 1 to Staging\n",
    "client.transition_model_version_stage(\n",
    "    name=\"nyc-taxi-regressor\",\n",
    "    version=\"1\",\n",
    "    stage=\"Staging\"\n",
    ")\n",
    "\n",
    "# Promote version 2 to Production\n",
    "client.transition_model_version_stage(\n",
    "    name=\"nyc-taxi-regressor\",\n",
    "    version=\"3\",\n",
    "    stage=\"Production\"\n",
    ")\n",
    "\n",
    "# Promote version 2 to Production\n",
    "client.transition_model_version_stage(\n",
    "    name=\"nyc-taxi-regressor\",\n",
    "    version=\"2\",\n",
    "    stage=\"Archived\"\n",
    ")\n",
    "\n"
   ]
  },
  {
   "cell_type": "code",
   "execution_count": 61,
   "id": "7c8686191b00135",
   "metadata": {
    "collapsed": false
   },
   "outputs": [
    {
     "name": "stdout",
     "output_type": "stream",
     "text": [
      "version: 1, stage: Staging\n",
      "version: 2, stage: Archived\n",
      "version: 3, stage: Production\n"
     ]
    },
    {
     "name": "stderr",
     "output_type": "stream",
     "text": [
      "C:\\Users\\artkr\\AppData\\Local\\Temp\\ipykernel_18292\\1279244624.py:3: FutureWarning: ``mlflow.tracking.client.MlflowClient.get_latest_versions`` is deprecated since 2.9.0. Model registry stages will be removed in a future major release. To learn more about the deprecation of model registry stages, see our migration guide here: https://mlflow.org/docs/latest/model-registry.html#migrating-from-stages\n",
      "  latest_versions = client.get_latest_versions(name=model_name)\n"
     ]
    }
   ],
   "source": [
    "#check model version and stages\n",
    "model_name = \"nyc-taxi-regressor\"\n",
    "latest_versions = client.get_latest_versions(name=model_name)\n",
    "\n",
    "for version in latest_versions:\n",
    "    print(f\"version: {version.version}, stage: {version.current_stage}\")"
   ]
  },
  {
   "cell_type": "markdown",
   "id": "973a18941abe32fa",
   "metadata": {
    "collapsed": false
   },
   "source": [
    "Comparing versions and selecting the new \"Production\" model\n",
    "In the last section, we will retrieve models registered in the model registry and compare their performance on an unseen test set. The idea is to simulate the scenario in which a deployment engineer has to interact with the model registry to decide whether to update the model version that is in production or not.\n",
    "\n",
    "These are the steps:\n",
    "\n",
    "Load the test dataset, which corresponds to the NYC Green Taxi data from the month of March 2021.\n",
    "Download the DictVectorizer that was fitted using the training data and saved to MLflow as an artifact, and load it with pickle.\n",
    "Preprocess the test set using the DictVectorizer so we can properly feed the regressors.\n",
    "Make predictions on the test set using the model versions that are currently in the \"Staging\" and \"Production\" stages, and compare their performance.\n",
    "Based on the results, update the \"Production\" model version accordingly.\n"
   ]
  }
 ],
 "metadata": {
  "kernelspec": {
   "display_name": "Python 3",
   "language": "python",
   "name": "python3"
  },
  "language_info": {
   "codemirror_mode": {
    "name": "ipython",
    "version": 3
   },
   "file_extension": ".py",
   "mimetype": "text/x-python",
   "name": "python",
   "nbconvert_exporter": "python",
   "pygments_lexer": "ipython3",
   "version": "3.11.9"
  }
 },
 "nbformat": 4,
 "nbformat_minor": 5
}
