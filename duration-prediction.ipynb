{
 "cells": [
  {
   "cell_type": "code",
   "execution_count": 1,
   "id": "69f0e75261ef1ccb",
   "metadata": {
    "ExecuteTime": {
     "end_time": "2025-03-16T12:39:25.740286Z",
     "start_time": "2025-03-16T12:39:24.342380Z"
    },
    "collapsed": false
   },
   "outputs": [],
   "source": [
    "# !pip install seaborn"
   ]
  },
  {
   "cell_type": "code",
   "execution_count": 2,
   "id": "initial_id",
   "metadata": {
    "ExecuteTime": {
     "end_time": "2025-03-16T12:39:29.102075Z",
     "start_time": "2025-03-16T12:39:27.042148Z"
    },
    "collapsed": true
   },
   "outputs": [],
   "source": [
    "import pandas as pd # working with tabular data\n",
    "import pickle # for machine learning models\n",
    "import seaborn as sns # visualization\n",
    "import matplotlib.pyplot as plt # visualization\n",
    "\n",
    "from sklearn.feature_extraction import DictVectorizer # Machine Learning\n",
    "from sklearn.linear_model import LinearRegression # Machine Learning\n",
    "from sklearn.linear_model import Lasso # Regularization\n",
    "from sklearn.linear_model import Ridge # Regularization\n",
    "\n",
    "from sklearn.metrics import mean_squared_error # Loss Function"
   ]
  },
  {
   "cell_type": "code",
   "execution_count": 3,
   "id": "8a2c0b2298fd95d3",
   "metadata": {
    "ExecuteTime": {
     "end_time": "2025-03-16T12:39:42.070015Z",
     "start_time": "2025-03-16T12:39:40.901374Z"
    },
    "collapsed": false
   },
   "outputs": [
    {
     "name": "stderr",
     "output_type": "stream",
     "text": [
      "2025/05/06 20:19:26 INFO mlflow.tracking.fluent: Experiment with name 'mlops_nyc_taxi' does not exist. Creating a new experiment.\n"
     ]
    },
    {
     "data": {
      "text/plain": [
       "<Experiment: artifact_location='file:///c:/Users/artkr/OneDrive/เอกสาร/GitHub/cpe393-mlflow/mlruns/1', creation_time=1746537566832, experiment_id='1', last_update_time=1746537566832, lifecycle_stage='active', name='mlops_nyc_taxi', tags={}>"
      ]
     },
     "execution_count": 3,
     "metadata": {},
     "output_type": "execute_result"
    }
   ],
   "source": [
    "import mlflow\n",
    "\n",
    "# to hook up with MLFlow UI\n",
    "mlflow.set_tracking_uri(\"sqlite:///mlflow.db\")\n",
    "mlflow.set_experiment(\"mlops_nyc_taxi\") # choose a name for your experiment"
   ]
  },
  {
   "cell_type": "code",
   "execution_count": 4,
   "id": "fead66d4",
   "metadata": {},
   "outputs": [
    {
     "name": "stdout",
     "output_type": "stream",
     "text": [
      "Downloading yellow_tripdata_2022-01.parquet...\n",
      "Done.\n",
      "Downloading yellow_tripdata_2022-02.parquet...\n",
      "Done.\n"
     ]
    }
   ],
   "source": [
    "import urllib.request\n",
    "\n",
    "urls = [\n",
    "    \"https://d37ci6vzurychx.cloudfront.net/trip-data/yellow_tripdata_2022-01.parquet\",\n",
    "    \"https://d37ci6vzurychx.cloudfront.net/trip-data/yellow_tripdata_2022-02.parquet\"\n",
    "]\n",
    "\n",
    "for url in urls:\n",
    "    filename = url.split(\"/\")[-1]\n",
    "    print(f\"Downloading {filename}...\")\n",
    "    urllib.request.urlretrieve(url, filename)\n",
    "    print(\"Done.\")\n"
   ]
  },
  {
   "cell_type": "code",
   "execution_count": 5,
   "id": "f5bbf109e081c7bb",
   "metadata": {
    "ExecuteTime": {
     "end_time": "2025-03-16T12:41:30.570575Z",
     "start_time": "2025-03-16T12:41:23.303737Z"
    },
    "collapsed": false
   },
   "outputs": [],
   "source": [
    "# !wget https://d37ci6vzurychx.cloudfront.net/trip-data/yellow_tripdata_2022-01.parquet https://d37ci6vzurychx.cloudfront.net/trip-data/yellow_tripdata_2022-02.parquet"
   ]
  },
  {
   "cell_type": "code",
   "execution_count": 6,
   "id": "6b2c8a8a4369d6c2",
   "metadata": {
    "ExecuteTime": {
     "end_time": "2025-03-16T12:42:23.438189Z",
     "start_time": "2025-03-16T12:42:23.435710Z"
    },
    "collapsed": false
   },
   "outputs": [],
   "source": [
    "def read_dataframe(filename):\n",
    "    if filename.endswith('.csv'):\n",
    "        df = pd.read_csv(filename)\n",
    "\n",
    "        df.tpep_dropoff_datetime = pd.to_datetime(df.tpep_dropoff_datetime)\n",
    "        df.tpep_pickup_datetime = pd.to_datetime(df.tpep_pickup_datetime)\n",
    "    elif filename.endswith('.parquet'):\n",
    "        df = pd.read_parquet(filename)\n",
    "\n",
    "    df['duration'] = df.tpep_dropoff_datetime - df.tpep_pickup_datetime\n",
    "    df.duration = df.duration.apply(lambda td: td.total_seconds() / 60)\n",
    "\n",
    "    df = df[(df.duration >= 1) & (df.duration <= 60)]\n",
    "\n",
    "    categorical = ['PULocationID', 'DOLocationID']\n",
    "    df[categorical] = df[categorical].astype(str)\n",
    "    \n",
    "    return df"
   ]
  },
  {
   "cell_type": "code",
   "execution_count": 7,
   "id": "f4a3eb6595cc7c02",
   "metadata": {
    "ExecuteTime": {
     "end_time": "2025-03-16T12:42:46.238750Z",
     "start_time": "2025-03-16T12:42:36.808654Z"
    },
    "collapsed": false
   },
   "outputs": [],
   "source": [
    "df_train = read_dataframe('yellow_tripdata_2022-01.parquet')\n",
    "df_val = read_dataframe('yellow_tripdata_2022-02.parquet')"
   ]
  },
  {
   "cell_type": "code",
   "execution_count": 8,
   "id": "d4f71a57fffaba5c",
   "metadata": {
    "ExecuteTime": {
     "end_time": "2025-03-16T12:42:49.836736Z",
     "start_time": "2025-03-16T12:42:49.833180Z"
    },
    "collapsed": false
   },
   "outputs": [
    {
     "data": {
      "text/plain": [
       "(2421440, 2918187)"
      ]
     },
     "execution_count": 8,
     "metadata": {},
     "output_type": "execute_result"
    }
   ],
   "source": [
    "len(df_train), len(df_val)"
   ]
  },
  {
   "cell_type": "code",
   "execution_count": 9,
   "id": "900a478304cd48c0",
   "metadata": {
    "ExecuteTime": {
     "end_time": "2025-03-16T12:45:26.486302Z",
     "start_time": "2025-03-16T12:45:25.558122Z"
    },
    "collapsed": false
   },
   "outputs": [],
   "source": [
    "df_train['PU_DO'] = df_train['PULocationID'] + '_' + df_train['DOLocationID']\n",
    "df_val['PU_DO'] = df_val['PULocationID'] + '_' + df_val['DOLocationID']"
   ]
  },
  {
   "cell_type": "code",
   "execution_count": 10,
   "id": "8b7f78edf56843c8",
   "metadata": {
    "ExecuteTime": {
     "end_time": "2025-03-16T12:45:44.967760Z",
     "start_time": "2025-03-16T12:45:34.871580Z"
    },
    "collapsed": false
   },
   "outputs": [],
   "source": [
    "categorical = ['PU_DO'] #'PULocationID', 'DOLocationID']\n",
    "numerical = ['trip_distance']\n",
    "\n",
    "dv = DictVectorizer()\n",
    "\n",
    "train_dicts = df_train[categorical + numerical].to_dict(orient='records')\n",
    "X_train = dv.fit_transform(train_dicts)\n",
    "\n",
    "val_dicts = df_val[categorical + numerical].to_dict(orient='records')\n",
    "X_val = dv.transform(val_dicts)"
   ]
  },
  {
   "cell_type": "code",
   "execution_count": 11,
   "id": "6097f8a680f5474f",
   "metadata": {
    "ExecuteTime": {
     "end_time": "2025-03-16T12:45:47.220635Z",
     "start_time": "2025-03-16T12:45:47.216488Z"
    },
    "collapsed": false
   },
   "outputs": [],
   "source": [
    "target = 'duration'\n",
    "y_train = df_train[target].values\n",
    "y_val = df_val[target].values"
   ]
  },
  {
   "cell_type": "code",
   "execution_count": 12,
   "id": "c37cf9c03e797939",
   "metadata": {
    "ExecuteTime": {
     "end_time": "2025-03-16T12:46:57.688380Z",
     "start_time": "2025-03-16T12:46:56.540954Z"
    },
    "collapsed": false
   },
   "outputs": [
    {
     "data": {
      "text/plain": [
       "30.58217685742737"
      ]
     },
     "execution_count": 12,
     "metadata": {},
     "output_type": "execute_result"
    }
   ],
   "source": [
    "lr = LinearRegression()\n",
    "lr.fit(X_train, y_train)\n",
    "\n",
    "y_pred = lr.predict(X_val)\n",
    "\n",
    "mean_squared_error(y_val, y_pred)"
   ]
  },
  {
   "cell_type": "code",
   "execution_count": 13,
   "id": "35ad188614e38ec9",
   "metadata": {
    "ExecuteTime": {
     "end_time": "2025-03-16T12:47:26.294040Z",
     "start_time": "2025-03-16T12:47:26.236764Z"
    },
    "collapsed": false
   },
   "outputs": [
    {
     "name": "stdout",
     "output_type": "stream",
     "text": [
      "Model successfully pickled.\n"
     ]
    }
   ],
   "source": [
    "with open('./lin_reg.bin', 'wb') as f_out: # wb means write binary mlops-zoomcamp/week_1/models\n",
    "    try:\n",
    "        # Pickle both the dictionary vectorizer and the linear regression model\n",
    "        pickle.dump((dv, lr), f_out)\n",
    "        print(\"Model successfully pickled.\")\n",
    "    except Exception as e:\n",
    "        print(\"Error occurred while pickling the model:\", str(e))"
   ]
  },
  {
   "cell_type": "code",
   "execution_count": 14,
   "id": "d3075661bfd28ab7",
   "metadata": {
    "ExecuteTime": {
     "end_time": "2025-03-16T12:50:39.902984Z",
     "start_time": "2025-03-16T12:50:34.853117Z"
    },
    "collapsed": false
   },
   "outputs": [],
   "source": [
    "# !pip install xgboost\n",
    "# !pip install hyperopt"
   ]
  },
  {
   "cell_type": "code",
   "execution_count": 15,
   "id": "1f3a2e0f357bdd85",
   "metadata": {
    "ExecuteTime": {
     "end_time": "2025-03-16T12:50:43.574578Z",
     "start_time": "2025-03-16T12:50:42.913133Z"
    },
    "collapsed": false
   },
   "outputs": [],
   "source": [
    "# import required modules\n",
    "import xgboost as xgb\n",
    "\n",
    "from hyperopt import fmin, tpe, hp, STATUS_OK, Trials # some methods to optimize hyperparameters\n",
    "from hyperopt.pyll import scope"
   ]
  },
  {
   "cell_type": "code",
   "execution_count": 16,
   "id": "d214383a81e8907",
   "metadata": {
    "ExecuteTime": {
     "end_time": "2025-03-16T12:51:08.315101Z",
     "start_time": "2025-03-16T12:51:08.151447Z"
    },
    "collapsed": false
   },
   "outputs": [],
   "source": [
    "train = xgb.DMatrix(X_train, label=y_train)\n",
    "valid = xgb.DMatrix(X_val, label=y_val)"
   ]
  },
  {
   "cell_type": "code",
   "execution_count": 17,
   "id": "5cf77fe02351233c",
   "metadata": {
    "ExecuteTime": {
     "end_time": "2025-03-16T12:52:10.714184Z",
     "start_time": "2025-03-16T12:52:10.711042Z"
    },
    "collapsed": false
   },
   "outputs": [],
   "source": [
    "# Objective function - set the parameters for this specific run\n",
    "def objective(params): \n",
    "    \n",
    "    with mlflow.start_run():\n",
    "        mlflow.set_tag(\"model\", \"xgboost\")\n",
    "        mlflow.log_params(params) \n",
    "        booster = xgb.train(\n",
    "            params=params,\n",
    "            dtrain=train, # model trained on training set\n",
    "            num_boost_round=3, # restricted due to time constraints - a value of 1000 iterations is common\n",
    "            evals=[(valid, 'validation')], # model evaluated on validation set\n",
    "            early_stopping_rounds=3 # if no improvements after 3 iterations, stop running # restricted, time constraints\n",
    "        )\n",
    "        y_pred = booster.predict(valid)\n",
    "        rmse = mean_squared_error(y_val, y_pred)\n",
    "        mlflow.log_metric(\"rmse\", rmse)\n",
    "\n",
    "    return {'loss': rmse, 'status': STATUS_OK}"
   ]
  },
  {
   "cell_type": "code",
   "execution_count": 18,
   "id": "306706eda0196304",
   "metadata": {
    "ExecuteTime": {
     "end_time": "2025-03-16T12:52:50.327863Z",
     "start_time": "2025-03-16T12:52:13.126121Z"
    },
    "collapsed": false
   },
   "outputs": [
    {
     "name": "stdout",
     "output_type": "stream",
     "text": [
      "  0%|          | 0/3 [00:00<?, ?trial/s, best loss=?]"
     ]
    },
    {
     "name": "stderr",
     "output_type": "stream",
     "text": [
      "C:\\Users\\artkr\\AppData\\Local\\Packages\\PythonSoftwareFoundation.Python.3.11_qbz5n2kfra8p0\\LocalCache\\local-packages\\Python311\\site-packages\\xgboost\\callback.py:386: UserWarning: [20:20:12] WARNING: C:\\actions-runner\\_work\\xgboost\\xgboost\\src\\objective\\regression_obj.cu:250: reg:linear is now deprecated in favor of reg:squarederror.\n",
      "  self.starting_round = model.num_boosted_rounds()\n",
      "\n"
     ]
    },
    {
     "name": "stdout",
     "output_type": "stream",
     "text": [
      "[0]\tvalidation-rmse:8.78133                          \n",
      "[1]\tvalidation-rmse:8.02441                          \n",
      "[2]\tvalidation-rmse:7.41036                          \n",
      " 33%|███▎      | 1/3 [04:04<08:09, 244.89s/trial, best loss: 54.91344582449776]"
     ]
    },
    {
     "name": "stderr",
     "output_type": "stream",
     "text": [
      "C:\\Users\\artkr\\AppData\\Local\\Packages\\PythonSoftwareFoundation.Python.3.11_qbz5n2kfra8p0\\LocalCache\\local-packages\\Python311\\site-packages\\xgboost\\callback.py:386: UserWarning: [20:24:17] WARNING: C:\\actions-runner\\_work\\xgboost\\xgboost\\src\\objective\\regression_obj.cu:250: reg:linear is now deprecated in favor of reg:squarederror.\n",
      "  self.starting_round = model.num_boosted_rounds()\n",
      "\n"
     ]
    },
    {
     "name": "stdout",
     "output_type": "stream",
     "text": [
      "[0]\tvalidation-rmse:8.91546                                                    \n",
      "[1]\tvalidation-rmse:8.25217                                                    \n",
      "[2]\tvalidation-rmse:7.70024                                                    \n",
      " 67%|██████▋   | 2/3 [04:12<01:45, 105.26s/trial, best loss: 54.91344582449776]"
     ]
    },
    {
     "name": "stderr",
     "output_type": "stream",
     "text": [
      "C:\\Users\\artkr\\AppData\\Local\\Packages\\PythonSoftwareFoundation.Python.3.11_qbz5n2kfra8p0\\LocalCache\\local-packages\\Python311\\site-packages\\xgboost\\callback.py:386: UserWarning: [20:24:24] WARNING: C:\\actions-runner\\_work\\xgboost\\xgboost\\src\\objective\\regression_obj.cu:250: reg:linear is now deprecated in favor of reg:squarederror.\n",
      "  self.starting_round = model.num_boosted_rounds()\n",
      "\n"
     ]
    },
    {
     "name": "stdout",
     "output_type": "stream",
     "text": [
      "[0]\tvalidation-rmse:9.15902                                                    \n",
      "[1]\tvalidation-rmse:8.67258                                                    \n",
      "[2]\tvalidation-rmse:8.24300                                                    \n",
      "100%|██████████| 3/3 [04:15<00:00, 85.07s/trial, best loss: 54.91344582449776] \n"
     ]
    }
   ],
   "source": [
    "# Set the range of the hyperparameter optimization search\n",
    "search_space = {\n",
    "    'max_depth': scope.int(hp.quniform('max_depth', 4, 100, 1)), # tree depth 4 to 100. Returns float, so convert to integer\n",
    "    'learning_rate': hp.loguniform('learning_rate', -3, 0), # range exp(-3), exp(0) which is (0.049787, 1.0)\n",
    "    'reg_alpha': hp.loguniform('reg_alpha', -5, -1), # range exp(-5), exp(-1) which is (0.006738, 0.367879)\n",
    "    'reg_lambda': hp.loguniform('reg_lambda', -6, -1), # range exp(-6), exp(-1) which is (0.002479, 0.367879)\n",
    "    'min_child_weight': hp.loguniform('min_child_weight', -1, 3), # range exp(-1), exp(3) which is (0.367879, 20.085537)\n",
    "    'objective': 'reg:linear',\n",
    "    'seed': 42\n",
    "}\n",
    "\n",
    "\n",
    "best_result = fmin( # imported above\n",
    "    fn=objective,\n",
    "    space=search_space, # as defined above\n",
    "    algo=tpe.suggest, # tpe is the algorithm used for optimization\n",
    "    max_evals=3, #restricted, time constraints \n",
    "    trials=Trials()\n",
    ")"
   ]
  },
  {
   "cell_type": "code",
   "execution_count": 19,
   "id": "4d0c1f3fdc43bb7",
   "metadata": {
    "ExecuteTime": {
     "end_time": "2025-03-16T15:07:25.444890Z",
     "start_time": "2025-03-16T15:07:25.426878Z"
    },
    "collapsed": false
   },
   "outputs": [],
   "source": [
    "mlflow.xgboost.autolog(disable=True) # MLflow will not store parameters automatically - these will have to be requested"
   ]
  },
  {
   "cell_type": "code",
   "execution_count": 20,
   "id": "38e65e49cbb4b1de",
   "metadata": {
    "ExecuteTime": {
     "end_time": "2025-03-16T15:09:13.912760Z",
     "start_time": "2025-03-16T15:09:13.909993Z"
    },
    "collapsed": false
   },
   "outputs": [],
   "source": [
    "#best params\n",
    "\n",
    "params = {\n",
    "    'learning_rate': 0.33500504398153885,\n",
    "    'max_depth': 74,\n",
    "    'min_child_weight': 3.4593376740383635,\n",
    "    'objective': 'reg:linear',\n",
    "    'reg_alpha': 0.02439429006088758,\n",
    "    'reg_lambda': 0.0029162481576915956,\n",
    "    'seed': 42   \n",
    "}"
   ]
  },
  {
   "cell_type": "code",
   "execution_count": 21,
   "id": "31176e7788771624",
   "metadata": {
    "ExecuteTime": {
     "end_time": "2025-03-16T15:11:38.731228Z",
     "start_time": "2025-03-16T15:11:20.019015Z"
    },
    "collapsed": false
   },
   "outputs": [
    {
     "name": "stderr",
     "output_type": "stream",
     "text": [
      "C:\\Users\\artkr\\AppData\\Local\\Packages\\PythonSoftwareFoundation.Python.3.11_qbz5n2kfra8p0\\LocalCache\\local-packages\\Python311\\site-packages\\xgboost\\callback.py:386: UserWarning: [20:24:27] WARNING: C:\\actions-runner\\_work\\xgboost\\xgboost\\src\\objective\\regression_obj.cu:250: reg:linear is now deprecated in favor of reg:squarederror.\n",
      "  self.starting_round = model.num_boosted_rounds()\n"
     ]
    },
    {
     "name": "stdout",
     "output_type": "stream",
     "text": [
      "[0]\tvalidation-rmse:7.64848\n",
      "[1]\tvalidation-rmse:6.47024\n",
      "[2]\tvalidation-rmse:5.82476\n"
     ]
    },
    {
     "name": "stderr",
     "output_type": "stream",
     "text": [
      "C:\\Users\\artkr\\AppData\\Local\\Packages\\PythonSoftwareFoundation.Python.3.11_qbz5n2kfra8p0\\LocalCache\\local-packages\\Python311\\site-packages\\mlflow\\xgboost\\__init__.py:168: UserWarning: [20:29:10] WARNING: C:\\actions-runner\\_work\\xgboost\\xgboost\\src\\c_api\\c_api.cc:1427: Saving model in the UBJSON format as default.  You can use file extension: `json`, `ubj` or `deprecated` to choose between formats.\n",
      "  xgb_model.save_model(model_data_path)\n",
      "2025/05/06 20:29:33 WARNING mlflow.models.model: Model logged without a signature and input example. Please set `input_example` parameter when logging the model to auto infer the model signature.\n"
     ]
    }
   ],
   "source": [
    "with mlflow.start_run():\n",
    "    \n",
    "    train = xgb.DMatrix(X_train, label=y_train)\n",
    "    valid = xgb.DMatrix(X_val, label=y_val)\n",
    "\n",
    "    best_params = {\n",
    "        'learning_rate': 0.4434065752589766,\n",
    "        'max_depth': 81,\n",
    "        'min_child_weight': 10.423237853746643,\n",
    "        'objective': 'reg:linear',\n",
    "        'reg_alpha': 0.2630756846813668,\n",
    "        'reg_lambda': 0.1220536223877784,\n",
    "        'seed': 42    \n",
    "    }\n",
    "\n",
    "    mlflow.log_params(best_params)\n",
    "\n",
    "    booster = xgb.train(\n",
    "        params=params,\n",
    "        dtrain=train, # model trained on training set\n",
    "        num_boost_round=3, # restricted due to time constraints - a value of 1000 iterations is common\n",
    "        evals=[(valid, 'validation')], # model evaluated on validation set\n",
    "        early_stopping_rounds=3 # if no improvements after 3 iterations, stop running # restricted, time constraints\n",
    "        )\n",
    "\n",
    "    y_pred = booster.predict(valid)\n",
    "    rmse = mean_squared_error(y_val, y_pred)\n",
    "    mlflow.log_metric(\"rmse\", rmse)\n",
    "\n",
    "    with open(\"preprocessor.b\", \"wb\") as f_out: # save pre-processing as a model\n",
    "        pickle.dump(dv, f_out)\n",
    "        \n",
    "    mlflow.log_artifact(\"preprocessor.b\", artifact_path=\"preprocessor\") # we can isolate the pre-processing from raw data\n",
    "    mlflow.xgboost.log_model(booster, artifact_path=\"models_mlflow\") "
   ]
  },
  {
   "cell_type": "code",
   "execution_count": 22,
   "id": "d7f4639e",
   "metadata": {},
   "outputs": [],
   "source": [
    "run_id = \"ad4cffe704344104a4386023a0e72fb9\"\n",
    "logged_model = f\"runs:/{run_id}/models_mlflow\"\n",
    "loaded_model = mlflow.pyfunc.load_model(logged_model)\n"
   ]
  },
  {
   "cell_type": "code",
   "execution_count": 23,
   "id": "b983d4b2538c548",
   "metadata": {
    "ExecuteTime": {
     "end_time": "2025-03-16T15:14:00.850105Z",
     "start_time": "2025-03-16T15:14:00.775616Z"
    },
    "collapsed": false
   },
   "outputs": [],
   "source": [
    "# logged_model = 'mlruns/1/b0cbc283e72241b99cf27d0352dc1088/artifacts/models_mlflow'\n",
    "\n",
    "# # Load model as a PyFuncModel.\n",
    "# loaded_model = mlflow.pyfunc.load_model(logged_model)"
   ]
  },
  {
   "cell_type": "code",
   "execution_count": 24,
   "id": "4de1026eb964d99a",
   "metadata": {
    "ExecuteTime": {
     "end_time": "2025-03-16T15:14:13.755396Z",
     "start_time": "2025-03-16T15:14:13.746153Z"
    },
    "collapsed": false
   },
   "outputs": [
    {
     "data": {
      "text/plain": [
       "mlflow.pyfunc.loaded_model:\n",
       "  artifact_path: models_mlflow\n",
       "  flavor: mlflow.xgboost\n",
       "  run_id: ad4cffe704344104a4386023a0e72fb9"
      ]
     },
     "execution_count": 24,
     "metadata": {},
     "output_type": "execute_result"
    }
   ],
   "source": [
    "loaded_model"
   ]
  },
  {
   "cell_type": "code",
   "execution_count": 25,
   "id": "4988552239a2684e",
   "metadata": {
    "ExecuteTime": {
     "end_time": "2025-03-16T15:14:24.949944Z",
     "start_time": "2025-03-16T15:14:24.931426Z"
    },
    "collapsed": false
   },
   "outputs": [],
   "source": [
    "xgboost_model = mlflow.xgboost.load_model(logged_model)"
   ]
  },
  {
   "cell_type": "code",
   "execution_count": 26,
   "id": "a8f1c6e1028afb68",
   "metadata": {
    "ExecuteTime": {
     "end_time": "2025-03-16T15:14:36.557689Z",
     "start_time": "2025-03-16T15:14:36.549781Z"
    },
    "collapsed": false
   },
   "outputs": [
    {
     "data": {
      "text/plain": [
       "<xgboost.core.Booster at 0x1d3304f88d0>"
      ]
     },
     "execution_count": 26,
     "metadata": {},
     "output_type": "execute_result"
    }
   ],
   "source": [
    "xgboost_model"
   ]
  },
  {
   "cell_type": "code",
   "execution_count": 27,
   "id": "64017f6d737f8437",
   "metadata": {
    "ExecuteTime": {
     "end_time": "2025-03-16T15:14:46.909599Z",
     "start_time": "2025-03-16T15:14:45.550416Z"
    },
    "collapsed": false
   },
   "outputs": [],
   "source": [
    "y_pred = xgboost_model.predict(valid)"
   ]
  },
  {
   "cell_type": "code",
   "execution_count": 28,
   "id": "a3494f6266d092cd",
   "metadata": {
    "ExecuteTime": {
     "end_time": "2025-03-16T15:14:54.831297Z",
     "start_time": "2025-03-16T15:14:54.820281Z"
    },
    "collapsed": false
   },
   "outputs": [
    {
     "data": {
      "text/plain": [
       "array([14.190828, 18.68855 , 26.193169, 23.354773, 26.193169, 13.043591,\n",
       "       21.33266 ,  6.970524, 15.222571, 15.575311], dtype=float32)"
      ]
     },
     "execution_count": 28,
     "metadata": {},
     "output_type": "execute_result"
    }
   ],
   "source": [
    "# check the first 10\n",
    "y_pred[:10]"
   ]
  },
  {
   "cell_type": "markdown",
   "id": "54f67bd4d5eb5fb7",
   "metadata": {
    "collapsed": false
   },
   "source": [
    "Model Registry"
   ]
  }
 ],
 "metadata": {
  "kernelspec": {
   "display_name": "Python 3",
   "language": "python",
   "name": "python3"
  },
  "language_info": {
   "codemirror_mode": {
    "name": "ipython",
    "version": 3
   },
   "file_extension": ".py",
   "mimetype": "text/x-python",
   "name": "python",
   "nbconvert_exporter": "python",
   "pygments_lexer": "ipython3",
   "version": "3.11.9"
  }
 },
 "nbformat": 4,
 "nbformat_minor": 5
}
